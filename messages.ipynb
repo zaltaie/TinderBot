{
 "cells": [
  {
   "cell_type": "code",
   "execution_count": 1,
   "metadata": {},
   "outputs": [],
   "source": [
    "import csv\n",
    "import sys\n",
    "import pandas as pd\n",
    "import numpy as np\n",
    "import pylab\n",
    "import datetime\n",
    "from matplotlib import pyplot as plt\n",
    "import matplotlib.dates"
   ]
  },
  {
   "cell_type": "code",
   "execution_count": 5,
   "metadata": {},
   "outputs": [],
   "source": [
    "df_1 = pd.read_csv('data/messages_user1.csv')\n",
    "\n",
    "df_2 = pd.read_csv('data/user2/user2.csv')\n",
    "\n",
    "df_3 = pd.read_csv('data/user3/user3.csv')"
   ]
  },
  {
   "cell_type": "code",
   "execution_count": null,
   "metadata": {},
   "outputs": [],
   "source": []
  },
  {
   "cell_type": "code",
   "execution_count": 7,
   "metadata": {},
   "outputs": [
    {
     "data": {
      "text/html": [
       "<div>\n",
       "<style scoped>\n",
       "    .dataframe tbody tr th:only-of-type {\n",
       "        vertical-align: middle;\n",
       "    }\n",
       "\n",
       "    .dataframe tbody tr th {\n",
       "        vertical-align: top;\n",
       "    }\n",
       "\n",
       "    .dataframe thead th {\n",
       "        text-align: right;\n",
       "    }\n",
       "</style>\n",
       "<table border=\"1\" class=\"dataframe\">\n",
       "  <thead>\n",
       "    <tr style=\"text-align: right;\">\n",
       "      <th></th>\n",
       "      <th>Messages.match_id</th>\n",
       "      <th>Messages.messages.to</th>\n",
       "      <th>Messages.messages.from</th>\n",
       "      <th>Messages.messages.message</th>\n",
       "      <th>Messages.messages.sent_date</th>\n",
       "      <th>Messages.messages.type</th>\n",
       "      <th>Messages.messages.fixed_height</th>\n",
       "    </tr>\n",
       "  </thead>\n",
       "  <tbody>\n",
       "    <tr>\n",
       "      <th>0</th>\n",
       "      <td>Match 70</td>\n",
       "      <td>69</td>\n",
       "      <td>You</td>\n",
       "      <td>Hey what&amp;rsquo;s good</td>\n",
       "      <td>Tue, 28 Apr 2020 20:38:04 GMT</td>\n",
       "      <td>NaN</td>\n",
       "      <td>NaN</td>\n",
       "    </tr>\n",
       "    <tr>\n",
       "      <th>1</th>\n",
       "      <td>Match 69</td>\n",
       "      <td>68</td>\n",
       "      <td>You</td>\n",
       "      <td>Are you a minecraft fence?</td>\n",
       "      <td>Mon, 27 Apr 2020 22:05:43 GMT</td>\n",
       "      <td>NaN</td>\n",
       "      <td>NaN</td>\n",
       "    </tr>\n",
       "    <tr>\n",
       "      <th>2</th>\n",
       "      <td>Match 69</td>\n",
       "      <td>68</td>\n",
       "      <td>You</td>\n",
       "      <td>Because I can&amp;rsquo;t get over you 🤠</td>\n",
       "      <td>Mon, 27 Apr 2020 22:05:57 GMT</td>\n",
       "      <td>NaN</td>\n",
       "      <td>NaN</td>\n",
       "    </tr>\n",
       "    <tr>\n",
       "      <th>3</th>\n",
       "      <td>Match 69</td>\n",
       "      <td>68</td>\n",
       "      <td>You</td>\n",
       "      <td>I&amp;rsquo;m sorry but the ending for how I met y...</td>\n",
       "      <td>Tue, 28 Apr 2020 01:18:19 GMT</td>\n",
       "      <td>NaN</td>\n",
       "      <td>NaN</td>\n",
       "    </tr>\n",
       "    <tr>\n",
       "      <th>4</th>\n",
       "      <td>Match 69</td>\n",
       "      <td>68</td>\n",
       "      <td>You</td>\n",
       "      <td>What are your thoughts</td>\n",
       "      <td>Tue, 28 Apr 2020 01:18:23 GMT</td>\n",
       "      <td>NaN</td>\n",
       "      <td>NaN</td>\n",
       "    </tr>\n",
       "  </tbody>\n",
       "</table>\n",
       "</div>"
      ],
      "text/plain": [
       "  Messages.match_id  Messages.messages.to Messages.messages.from  \\\n",
       "0          Match 70                    69                    You   \n",
       "1          Match 69                    68                    You   \n",
       "2          Match 69                    68                    You   \n",
       "3          Match 69                    68                    You   \n",
       "4          Match 69                    68                    You   \n",
       "\n",
       "                           Messages.messages.message  \\\n",
       "0                              Hey what&rsquo;s good   \n",
       "1                         Are you a minecraft fence?   \n",
       "2               Because I can&rsquo;t get over you 🤠   \n",
       "3  I&rsquo;m sorry but the ending for how I met y...   \n",
       "4                             What are your thoughts   \n",
       "\n",
       "     Messages.messages.sent_date Messages.messages.type  \\\n",
       "0  Tue, 28 Apr 2020 20:38:04 GMT                    NaN   \n",
       "1  Mon, 27 Apr 2020 22:05:43 GMT                    NaN   \n",
       "2  Mon, 27 Apr 2020 22:05:57 GMT                    NaN   \n",
       "3  Tue, 28 Apr 2020 01:18:19 GMT                    NaN   \n",
       "4  Tue, 28 Apr 2020 01:18:23 GMT                    NaN   \n",
       "\n",
       "  Messages.messages.fixed_height  \n",
       "0                            NaN  \n",
       "1                            NaN  \n",
       "2                            NaN  \n",
       "3                            NaN  \n",
       "4                            NaN  "
      ]
     },
     "execution_count": 7,
     "metadata": {},
     "output_type": "execute_result"
    }
   ],
   "source": [
    "df_1.head()"
   ]
  },
  {
   "cell_type": "code",
   "execution_count": null,
   "metadata": {},
   "outputs": [],
   "source": []
  }
 ],
 "metadata": {
  "kernelspec": {
   "display_name": "Python 3",
   "language": "python",
   "name": "python3"
  },
  "language_info": {
   "codemirror_mode": {
    "name": "ipython",
    "version": 3
   },
   "file_extension": ".py",
   "mimetype": "text/x-python",
   "name": "python",
   "nbconvert_exporter": "python",
   "pygments_lexer": "ipython3",
   "version": "3.7.6"
  }
 },
 "nbformat": 4,
 "nbformat_minor": 4
}
